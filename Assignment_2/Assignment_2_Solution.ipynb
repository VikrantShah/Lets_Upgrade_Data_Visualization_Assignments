{
 "cells": [
  {
   "cell_type": "markdown",
   "metadata": {},
   "source": [
    "# Importing the libraries"
   ]
  },
  {
   "cell_type": "code",
   "execution_count": 1,
   "metadata": {},
   "outputs": [],
   "source": [
    "import numpy as np\n",
    "from numpy.random import randn\n",
    "import pandas as pd\n",
    "\n",
    "import matplotlib.pyplot as plt\n",
    "%matplotlib inline"
   ]
  },
  {
   "cell_type": "markdown",
   "metadata": {},
   "source": [
    "# Question 1\n",
    "Create a dataframe with 10 rows on random numbers and 4 columns, (columns labelled as a,b,c,d) and plot a bar chart.\n"
   ]
  },
  {
   "cell_type": "code",
   "execution_count": 2,
   "metadata": {},
   "outputs": [],
   "source": [
    "df = pd.DataFrame(randn(10, 4), columns=[\"a\", \"b\", \"c\", \"d\"])"
   ]
  },
  {
   "cell_type": "code",
   "execution_count": 3,
   "metadata": {},
   "outputs": [
    {
     "data": {
      "text/html": [
       "<div>\n",
       "<style scoped>\n",
       "    .dataframe tbody tr th:only-of-type {\n",
       "        vertical-align: middle;\n",
       "    }\n",
       "\n",
       "    .dataframe tbody tr th {\n",
       "        vertical-align: top;\n",
       "    }\n",
       "\n",
       "    .dataframe thead th {\n",
       "        text-align: right;\n",
       "    }\n",
       "</style>\n",
       "<table border=\"1\" class=\"dataframe\">\n",
       "  <thead>\n",
       "    <tr style=\"text-align: right;\">\n",
       "      <th></th>\n",
       "      <th>a</th>\n",
       "      <th>b</th>\n",
       "      <th>c</th>\n",
       "      <th>d</th>\n",
       "    </tr>\n",
       "  </thead>\n",
       "  <tbody>\n",
       "    <tr>\n",
       "      <th>0</th>\n",
       "      <td>-0.830798</td>\n",
       "      <td>-1.119900</td>\n",
       "      <td>-0.264860</td>\n",
       "      <td>-0.209057</td>\n",
       "    </tr>\n",
       "    <tr>\n",
       "      <th>1</th>\n",
       "      <td>0.674643</td>\n",
       "      <td>-0.112822</td>\n",
       "      <td>-0.839358</td>\n",
       "      <td>2.026633</td>\n",
       "    </tr>\n",
       "    <tr>\n",
       "      <th>2</th>\n",
       "      <td>-0.359086</td>\n",
       "      <td>-0.005382</td>\n",
       "      <td>0.639736</td>\n",
       "      <td>-0.477035</td>\n",
       "    </tr>\n",
       "    <tr>\n",
       "      <th>3</th>\n",
       "      <td>-0.125556</td>\n",
       "      <td>-0.579068</td>\n",
       "      <td>-0.690811</td>\n",
       "      <td>0.814308</td>\n",
       "    </tr>\n",
       "    <tr>\n",
       "      <th>4</th>\n",
       "      <td>0.293805</td>\n",
       "      <td>0.851486</td>\n",
       "      <td>0.226641</td>\n",
       "      <td>-1.558475</td>\n",
       "    </tr>\n",
       "    <tr>\n",
       "      <th>5</th>\n",
       "      <td>0.108088</td>\n",
       "      <td>0.448812</td>\n",
       "      <td>0.392698</td>\n",
       "      <td>2.041029</td>\n",
       "    </tr>\n",
       "    <tr>\n",
       "      <th>6</th>\n",
       "      <td>0.263214</td>\n",
       "      <td>-1.601866</td>\n",
       "      <td>-1.002613</td>\n",
       "      <td>0.440430</td>\n",
       "    </tr>\n",
       "    <tr>\n",
       "      <th>7</th>\n",
       "      <td>1.050170</td>\n",
       "      <td>-1.221251</td>\n",
       "      <td>0.029877</td>\n",
       "      <td>0.733769</td>\n",
       "    </tr>\n",
       "    <tr>\n",
       "      <th>8</th>\n",
       "      <td>-0.029542</td>\n",
       "      <td>1.329578</td>\n",
       "      <td>0.290430</td>\n",
       "      <td>1.263314</td>\n",
       "    </tr>\n",
       "    <tr>\n",
       "      <th>9</th>\n",
       "      <td>0.839504</td>\n",
       "      <td>-0.493017</td>\n",
       "      <td>2.152918</td>\n",
       "      <td>-0.849508</td>\n",
       "    </tr>\n",
       "  </tbody>\n",
       "</table>\n",
       "</div>"
      ],
      "text/plain": [
       "          a         b         c         d\n",
       "0 -0.830798 -1.119900 -0.264860 -0.209057\n",
       "1  0.674643 -0.112822 -0.839358  2.026633\n",
       "2 -0.359086 -0.005382  0.639736 -0.477035\n",
       "3 -0.125556 -0.579068 -0.690811  0.814308\n",
       "4  0.293805  0.851486  0.226641 -1.558475\n",
       "5  0.108088  0.448812  0.392698  2.041029\n",
       "6  0.263214 -1.601866 -1.002613  0.440430\n",
       "7  1.050170 -1.221251  0.029877  0.733769\n",
       "8 -0.029542  1.329578  0.290430  1.263314\n",
       "9  0.839504 -0.493017  2.152918 -0.849508"
      ]
     },
     "execution_count": 3,
     "metadata": {},
     "output_type": "execute_result"
    }
   ],
   "source": [
    "df"
   ]
  },
  {
   "cell_type": "code",
   "execution_count": 4,
   "metadata": {},
   "outputs": [
    {
     "data": {
      "image/png": "[encoded data removed]",
      "text/plain": [
       "<Figure size 864x864 with 1 Axes>"
      ]
     },
     "metadata": {
      "needs_background": "light"
     },
     "output_type": "display_data"
    }
   ],
   "source": [
    "df.plot(kind=\"bar\", figsize=(12, 12))\n",
    "plt.title(\"Bar Graph\")\n",
    "plt.savefig(\"Question_1_Solution.jpg\");"
   ]
  },
  {
   "cell_type": "code",
   "execution_count": null,
   "metadata": {},
   "outputs": [],
   "source": []
  }
 ],
 "metadata": {
  "kernelspec": {
   "display_name": "Python 3",
   "language": "python",
   "name": "python3"
  },
  "language_info": {
   "codemirror_mode": {
    "name": "ipython",
    "version": 3
   },
   "file_extension": ".py",
   "mimetype": "text/x-python",
   "name": "python",
   "nbconvert_exporter": "python",
   "pygments_lexer": "ipython3",
   "version": "3.8.5"
  }
 },
 "nbformat": 4,
 "nbformat_minor": 4
}
